{
 "cells": [
  {
   "cell_type": "code",
   "execution_count": 80,
   "source": [
    "from datetime import datetime\n",
    "\n",
    "import matplotlib.pyplot as plt\n",
    "import numpy as np\n",
    "import pandas as pd\n",
    "from binance.client import Client\n",
    "from sklearn.preprocessing import StandardScaler\n",
    "from tensorflow.keras.layers import Dense, Dropout, LSTM\n",
    "from tensorflow.keras.models import Sequential\n",
    "\n",
    "import config\n"
   ],
   "outputs": [],
   "metadata": {}
  },
  {
   "cell_type": "code",
   "execution_count": 81,
   "source": [
    "dateTimeFormat = '%d/%m/%Y %H:%M:%S'\n",
    "startDateTimeStr = '01/01/2021 00:00:00'\n",
    "endDateTimeStr = '31/01/2021 23:59:59'\n",
    "\n",
    "startDateTime = datetime.strptime(startDateTimeStr, dateTimeFormat)\n",
    "# sum 31 days to startDate\n",
    "# endDateTime = startDateTime + datetime.timedelta(days = 31)\n",
    "# OR specify date , keep in mind api let 90 days ahead.\n",
    "endDateTime = datetime.strptime(endDateTimeStr, dateTimeFormat)\n",
    "# must convert to millis , API Bug: https://github.com/sammchardy/python-binance/issues/419\n",
    "startDateTimeMillis = int(startDateTime.timestamp()*1000)\n",
    "endDateTimeMillis =int(endDateTime.timestamp()*1000)\n",
    "\n",
    "client = Client(config.API_KEY, config.API_SECRET, tld='com')\n",
    "df = client.get_klines(symbol='ETHBRL', interval=Client.KLINE_INTERVAL_1DAY, startTime=startDateTimeMillis,endTime=endDateTimeMillis)\n",
    "\n",
    "df = pd.DataFrame(df)\n",
    "df.columns = ['date', 'open', 'high', 'low', 'close', 'volume', 'close_time', 'quote_asset_volume', 'number_of_trades',\n",
    "              'taker_buy_base_asset_volume', 'taker_buy_quote_asset_volume', 'Ignore']\n",
    "#Manipulação dos dados recebidos pelo api \n",
    "# df.set_index('date', inplace=True)\n",
    "# df.index = pd.to_datetime(df.index, unit='ms')\n",
    "\n",
    "df['date'] = pd.to_datetime(df['date'], format='%Y-%m-%d')\n",
    "\n",
    "df['open'] = pd.to_numeric(df['open'])\n",
    "df['high'] = pd.to_numeric(df['high'])\n",
    "df['low'] = pd.to_numeric(df['low'])\n",
    "df['close'] = pd.to_numeric(df['close'])\n",
    "df['volume'] = pd.to_numeric(df['volume'])\n",
    "\n",
    "#Excluir colunas do df\n",
    "df.drop('close_time', axis=1, inplace=True)\n",
    "df.drop('quote_asset_volume', axis=1, inplace=True)\n",
    "df.drop('number_of_trades', axis=1, inplace=True)\n",
    "df.drop('taker_buy_base_asset_volume', axis=1, inplace=True)\n",
    "df.drop('taker_buy_quote_asset_volume', axis=1, inplace=True)\n",
    "df.drop('Ignore', axis=1, inplace=True)\n",
    "df_ori = df\n",
    "df.head()"
   ],
   "outputs": [
    {
     "output_type": "execute_result",
     "data": {
      "text/html": [
       "<div>\n",
       "<style scoped>\n",
       "    .dataframe tbody tr th:only-of-type {\n",
       "        vertical-align: middle;\n",
       "    }\n",
       "\n",
       "    .dataframe tbody tr th {\n",
       "        vertical-align: top;\n",
       "    }\n",
       "\n",
       "    .dataframe thead th {\n",
       "        text-align: right;\n",
       "    }\n",
       "</style>\n",
       "<table border=\"1\" class=\"dataframe\">\n",
       "  <thead>\n",
       "    <tr style=\"text-align: right;\">\n",
       "      <th></th>\n",
       "      <th>date</th>\n",
       "      <th>open</th>\n",
       "      <th>high</th>\n",
       "      <th>low</th>\n",
       "      <th>close</th>\n",
       "      <th>volume</th>\n",
       "    </tr>\n",
       "  </thead>\n",
       "  <tbody>\n",
       "    <tr>\n",
       "      <th>0</th>\n",
       "      <td>1970-01-01 00:26:44.016000</td>\n",
       "      <td>2237.00</td>\n",
       "      <td>2237.36</td>\n",
       "      <td>788.00</td>\n",
       "      <td>2227.54</td>\n",
       "      <td>15.08916</td>\n",
       "    </tr>\n",
       "    <tr>\n",
       "      <th>1</th>\n",
       "      <td>1970-01-01 00:26:44.102400</td>\n",
       "      <td>2239.41</td>\n",
       "      <td>2277.43</td>\n",
       "      <td>2232.99</td>\n",
       "      <td>2246.94</td>\n",
       "      <td>9.98547</td>\n",
       "    </tr>\n",
       "    <tr>\n",
       "      <th>2</th>\n",
       "      <td>1970-01-01 00:26:44.188800</td>\n",
       "      <td>2260.99</td>\n",
       "      <td>2309.24</td>\n",
       "      <td>2242.52</td>\n",
       "      <td>2298.30</td>\n",
       "      <td>7.91028</td>\n",
       "    </tr>\n",
       "    <tr>\n",
       "      <th>3</th>\n",
       "      <td>1970-01-01 00:26:44.275200</td>\n",
       "      <td>2309.24</td>\n",
       "      <td>2339.22</td>\n",
       "      <td>2212.28</td>\n",
       "      <td>2229.99</td>\n",
       "      <td>73.56145</td>\n",
       "    </tr>\n",
       "    <tr>\n",
       "      <th>4</th>\n",
       "      <td>1970-01-01 00:26:44.361600</td>\n",
       "      <td>2215.30</td>\n",
       "      <td>2264.83</td>\n",
       "      <td>2176.35</td>\n",
       "      <td>2259.32</td>\n",
       "      <td>20.94825</td>\n",
       "    </tr>\n",
       "  </tbody>\n",
       "</table>\n",
       "</div>"
      ],
      "text/plain": [
       "                        date     open     high      low    close    volume\n",
       "0 1970-01-01 00:26:44.016000  2237.00  2237.36   788.00  2227.54  15.08916\n",
       "1 1970-01-01 00:26:44.102400  2239.41  2277.43  2232.99  2246.94   9.98547\n",
       "2 1970-01-01 00:26:44.188800  2260.99  2309.24  2242.52  2298.30   7.91028\n",
       "3 1970-01-01 00:26:44.275200  2309.24  2339.22  2212.28  2229.99  73.56145\n",
       "4 1970-01-01 00:26:44.361600  2215.30  2264.83  2176.35  2259.32  20.94825"
      ]
     },
     "metadata": {},
     "execution_count": 81
    }
   ],
   "metadata": {}
  },
  {
   "cell_type": "code",
   "execution_count": 82,
   "source": [
    "df = df.drop(['open', 'high', 'low', 'volume'], axis=1)\n",
    "df"
   ],
   "outputs": [
    {
     "output_type": "execute_result",
     "data": {
      "text/html": [
       "<div>\n",
       "<style scoped>\n",
       "    .dataframe tbody tr th:only-of-type {\n",
       "        vertical-align: middle;\n",
       "    }\n",
       "\n",
       "    .dataframe tbody tr th {\n",
       "        vertical-align: top;\n",
       "    }\n",
       "\n",
       "    .dataframe thead th {\n",
       "        text-align: right;\n",
       "    }\n",
       "</style>\n",
       "<table border=\"1\" class=\"dataframe\">\n",
       "  <thead>\n",
       "    <tr style=\"text-align: right;\">\n",
       "      <th></th>\n",
       "      <th>date</th>\n",
       "      <th>close</th>\n",
       "    </tr>\n",
       "  </thead>\n",
       "  <tbody>\n",
       "    <tr>\n",
       "      <th>0</th>\n",
       "      <td>1970-01-01 00:26:44.016000</td>\n",
       "      <td>2227.54</td>\n",
       "    </tr>\n",
       "    <tr>\n",
       "      <th>1</th>\n",
       "      <td>1970-01-01 00:26:44.102400</td>\n",
       "      <td>2246.94</td>\n",
       "    </tr>\n",
       "    <tr>\n",
       "      <th>2</th>\n",
       "      <td>1970-01-01 00:26:44.188800</td>\n",
       "      <td>2298.30</td>\n",
       "    </tr>\n",
       "    <tr>\n",
       "      <th>3</th>\n",
       "      <td>1970-01-01 00:26:44.275200</td>\n",
       "      <td>2229.99</td>\n",
       "    </tr>\n",
       "    <tr>\n",
       "      <th>4</th>\n",
       "      <td>1970-01-01 00:26:44.361600</td>\n",
       "      <td>2259.32</td>\n",
       "    </tr>\n",
       "    <tr>\n",
       "      <th>...</th>\n",
       "      <td>...</td>\n",
       "      <td>...</td>\n",
       "    </tr>\n",
       "    <tr>\n",
       "      <th>309</th>\n",
       "      <td>1970-01-01 00:27:10.713600</td>\n",
       "      <td>20298.85</td>\n",
       "    </tr>\n",
       "    <tr>\n",
       "      <th>310</th>\n",
       "      <td>1970-01-01 00:27:10.800000</td>\n",
       "      <td>20552.10</td>\n",
       "    </tr>\n",
       "    <tr>\n",
       "      <th>311</th>\n",
       "      <td>1970-01-01 00:27:10.886400</td>\n",
       "      <td>20483.93</td>\n",
       "    </tr>\n",
       "    <tr>\n",
       "      <th>312</th>\n",
       "      <td>1970-01-01 00:27:10.972800</td>\n",
       "      <td>18200.00</td>\n",
       "    </tr>\n",
       "    <tr>\n",
       "      <th>313</th>\n",
       "      <td>1970-01-01 00:27:11.059200</td>\n",
       "      <td>18757.73</td>\n",
       "    </tr>\n",
       "  </tbody>\n",
       "</table>\n",
       "<p>314 rows × 2 columns</p>\n",
       "</div>"
      ],
      "text/plain": [
       "                          date     close\n",
       "0   1970-01-01 00:26:44.016000   2227.54\n",
       "1   1970-01-01 00:26:44.102400   2246.94\n",
       "2   1970-01-01 00:26:44.188800   2298.30\n",
       "3   1970-01-01 00:26:44.275200   2229.99\n",
       "4   1970-01-01 00:26:44.361600   2259.32\n",
       "..                         ...       ...\n",
       "309 1970-01-01 00:27:10.713600  20298.85\n",
       "310 1970-01-01 00:27:10.800000  20552.10\n",
       "311 1970-01-01 00:27:10.886400  20483.93\n",
       "312 1970-01-01 00:27:10.972800  18200.00\n",
       "313 1970-01-01 00:27:11.059200  18757.73\n",
       "\n",
       "[314 rows x 2 columns]"
      ]
     },
     "metadata": {},
     "execution_count": 82
    }
   ],
   "metadata": {}
  },
  {
   "cell_type": "code",
   "execution_count": 83,
   "source": [
    "df = df.set_index(pd.DatetimeIndex(df['date'].values))\n",
    "\n",
    "df"
   ],
   "outputs": [
    {
     "output_type": "execute_result",
     "data": {
      "text/html": [
       "<div>\n",
       "<style scoped>\n",
       "    .dataframe tbody tr th:only-of-type {\n",
       "        vertical-align: middle;\n",
       "    }\n",
       "\n",
       "    .dataframe tbody tr th {\n",
       "        vertical-align: top;\n",
       "    }\n",
       "\n",
       "    .dataframe thead th {\n",
       "        text-align: right;\n",
       "    }\n",
       "</style>\n",
       "<table border=\"1\" class=\"dataframe\">\n",
       "  <thead>\n",
       "    <tr style=\"text-align: right;\">\n",
       "      <th></th>\n",
       "      <th>date</th>\n",
       "      <th>close</th>\n",
       "    </tr>\n",
       "  </thead>\n",
       "  <tbody>\n",
       "    <tr>\n",
       "      <th>1970-01-01 00:26:44.016000</th>\n",
       "      <td>1970-01-01 00:26:44.016000</td>\n",
       "      <td>2227.54</td>\n",
       "    </tr>\n",
       "    <tr>\n",
       "      <th>1970-01-01 00:26:44.102400</th>\n",
       "      <td>1970-01-01 00:26:44.102400</td>\n",
       "      <td>2246.94</td>\n",
       "    </tr>\n",
       "    <tr>\n",
       "      <th>1970-01-01 00:26:44.188800</th>\n",
       "      <td>1970-01-01 00:26:44.188800</td>\n",
       "      <td>2298.30</td>\n",
       "    </tr>\n",
       "    <tr>\n",
       "      <th>1970-01-01 00:26:44.275200</th>\n",
       "      <td>1970-01-01 00:26:44.275200</td>\n",
       "      <td>2229.99</td>\n",
       "    </tr>\n",
       "    <tr>\n",
       "      <th>1970-01-01 00:26:44.361600</th>\n",
       "      <td>1970-01-01 00:26:44.361600</td>\n",
       "      <td>2259.32</td>\n",
       "    </tr>\n",
       "    <tr>\n",
       "      <th>...</th>\n",
       "      <td>...</td>\n",
       "      <td>...</td>\n",
       "    </tr>\n",
       "    <tr>\n",
       "      <th>1970-01-01 00:27:10.713600</th>\n",
       "      <td>1970-01-01 00:27:10.713600</td>\n",
       "      <td>20298.85</td>\n",
       "    </tr>\n",
       "    <tr>\n",
       "      <th>1970-01-01 00:27:10.800000</th>\n",
       "      <td>1970-01-01 00:27:10.800000</td>\n",
       "      <td>20552.10</td>\n",
       "    </tr>\n",
       "    <tr>\n",
       "      <th>1970-01-01 00:27:10.886400</th>\n",
       "      <td>1970-01-01 00:27:10.886400</td>\n",
       "      <td>20483.93</td>\n",
       "    </tr>\n",
       "    <tr>\n",
       "      <th>1970-01-01 00:27:10.972800</th>\n",
       "      <td>1970-01-01 00:27:10.972800</td>\n",
       "      <td>18200.00</td>\n",
       "    </tr>\n",
       "    <tr>\n",
       "      <th>1970-01-01 00:27:11.059200</th>\n",
       "      <td>1970-01-01 00:27:11.059200</td>\n",
       "      <td>18757.73</td>\n",
       "    </tr>\n",
       "  </tbody>\n",
       "</table>\n",
       "<p>314 rows × 2 columns</p>\n",
       "</div>"
      ],
      "text/plain": [
       "                                                 date     close\n",
       "1970-01-01 00:26:44.016000 1970-01-01 00:26:44.016000   2227.54\n",
       "1970-01-01 00:26:44.102400 1970-01-01 00:26:44.102400   2246.94\n",
       "1970-01-01 00:26:44.188800 1970-01-01 00:26:44.188800   2298.30\n",
       "1970-01-01 00:26:44.275200 1970-01-01 00:26:44.275200   2229.99\n",
       "1970-01-01 00:26:44.361600 1970-01-01 00:26:44.361600   2259.32\n",
       "...                                               ...       ...\n",
       "1970-01-01 00:27:10.713600 1970-01-01 00:27:10.713600  20298.85\n",
       "1970-01-01 00:27:10.800000 1970-01-01 00:27:10.800000  20552.10\n",
       "1970-01-01 00:27:10.886400 1970-01-01 00:27:10.886400  20483.93\n",
       "1970-01-01 00:27:10.972800 1970-01-01 00:27:10.972800  18200.00\n",
       "1970-01-01 00:27:11.059200 1970-01-01 00:27:11.059200  18757.73\n",
       "\n",
       "[314 rows x 2 columns]"
      ]
     },
     "metadata": {},
     "execution_count": 83
    }
   ],
   "metadata": {}
  },
  {
   "cell_type": "code",
   "execution_count": 84,
   "source": [
    "df.drop('date', axis=1, inplace=True)\n",
    "df"
   ],
   "outputs": [
    {
     "output_type": "execute_result",
     "data": {
      "text/html": [
       "<div>\n",
       "<style scoped>\n",
       "    .dataframe tbody tr th:only-of-type {\n",
       "        vertical-align: middle;\n",
       "    }\n",
       "\n",
       "    .dataframe tbody tr th {\n",
       "        vertical-align: top;\n",
       "    }\n",
       "\n",
       "    .dataframe thead th {\n",
       "        text-align: right;\n",
       "    }\n",
       "</style>\n",
       "<table border=\"1\" class=\"dataframe\">\n",
       "  <thead>\n",
       "    <tr style=\"text-align: right;\">\n",
       "      <th></th>\n",
       "      <th>close</th>\n",
       "    </tr>\n",
       "  </thead>\n",
       "  <tbody>\n",
       "    <tr>\n",
       "      <th>1970-01-01 00:26:44.016000</th>\n",
       "      <td>2227.54</td>\n",
       "    </tr>\n",
       "    <tr>\n",
       "      <th>1970-01-01 00:26:44.102400</th>\n",
       "      <td>2246.94</td>\n",
       "    </tr>\n",
       "    <tr>\n",
       "      <th>1970-01-01 00:26:44.188800</th>\n",
       "      <td>2298.30</td>\n",
       "    </tr>\n",
       "    <tr>\n",
       "      <th>1970-01-01 00:26:44.275200</th>\n",
       "      <td>2229.99</td>\n",
       "    </tr>\n",
       "    <tr>\n",
       "      <th>1970-01-01 00:26:44.361600</th>\n",
       "      <td>2259.32</td>\n",
       "    </tr>\n",
       "    <tr>\n",
       "      <th>...</th>\n",
       "      <td>...</td>\n",
       "    </tr>\n",
       "    <tr>\n",
       "      <th>1970-01-01 00:27:10.713600</th>\n",
       "      <td>20298.85</td>\n",
       "    </tr>\n",
       "    <tr>\n",
       "      <th>1970-01-01 00:27:10.800000</th>\n",
       "      <td>20552.10</td>\n",
       "    </tr>\n",
       "    <tr>\n",
       "      <th>1970-01-01 00:27:10.886400</th>\n",
       "      <td>20483.93</td>\n",
       "    </tr>\n",
       "    <tr>\n",
       "      <th>1970-01-01 00:27:10.972800</th>\n",
       "      <td>18200.00</td>\n",
       "    </tr>\n",
       "    <tr>\n",
       "      <th>1970-01-01 00:27:11.059200</th>\n",
       "      <td>18757.73</td>\n",
       "    </tr>\n",
       "  </tbody>\n",
       "</table>\n",
       "<p>314 rows × 1 columns</p>\n",
       "</div>"
      ],
      "text/plain": [
       "                               close\n",
       "1970-01-01 00:26:44.016000   2227.54\n",
       "1970-01-01 00:26:44.102400   2246.94\n",
       "1970-01-01 00:26:44.188800   2298.30\n",
       "1970-01-01 00:26:44.275200   2229.99\n",
       "1970-01-01 00:26:44.361600   2259.32\n",
       "...                              ...\n",
       "1970-01-01 00:27:10.713600  20298.85\n",
       "1970-01-01 00:27:10.800000  20552.10\n",
       "1970-01-01 00:27:10.886400  20483.93\n",
       "1970-01-01 00:27:10.972800  18200.00\n",
       "1970-01-01 00:27:11.059200  18757.73\n",
       "\n",
       "[314 rows x 1 columns]"
      ]
     },
     "metadata": {},
     "execution_count": 84
    }
   ],
   "metadata": {}
  },
  {
   "cell_type": "code",
   "execution_count": 85,
   "source": [
    "plt.figure(figsize=(16, 8))\n",
    "plt.title('close')\n",
    "plt.plot(df['close'])\n",
    "plt.xlabel('date')"
   ],
   "outputs": [
    {
     "output_type": "execute_result",
     "data": {
      "text/plain": [
       "Text(0.5, 0, 'date')"
      ]
     },
     "metadata": {},
     "execution_count": 85
    },
    {
     "output_type": "display_data",
     "data": {
      "image/png": "[encoded data removed]",
      "text/plain": [
       "<Figure size 1152x576 with 1 Axes>"
      ]
     },
     "metadata": {
      "needs_background": "light"
     }
    }
   ],
   "metadata": {}
  },
  {
   "cell_type": "code",
   "execution_count": 86,
   "source": [
    "qtd_linhas = len(df)\n",
    "qtd_linhas_treino = round(.70 * qtd_linhas)\n",
    "qtd_linhas_teste = qtd_linhas - qtd_linhas_treino\n",
    "info = (\n",
    "    f\"linhas treino= 0:{qtd_linhas_treino}\"\n",
    "    f\"linhas teste= {qtd_linhas_treino}:{qtd_linhas_teste + qtd_linhas_treino}\"\n",
    ")\n",
    "info"
   ],
   "outputs": [
    {
     "output_type": "execute_result",
     "data": {
      "text/plain": [
       "'linhas treino= 0:220linhas teste= 220:314'"
      ]
     },
     "metadata": {},
     "execution_count": 86
    }
   ],
   "metadata": {}
  },
  {
   "cell_type": "code",
   "execution_count": 87,
   "source": [
    "#Normalizando os dados\n",
    "scaler = StandardScaler()\n",
    "df_scaled = scaler.fit_transform(df)"
   ],
   "outputs": [],
   "metadata": {}
  },
  {
   "cell_type": "code",
   "execution_count": 88,
   "source": [
    "#separando em treino e test\n",
    "train = df_scaled[:qtd_linhas_treino]\n",
    "test = df_scaled[qtd_linhas_treino: qtd_linhas_treino + qtd_linhas_teste]\n",
    "print(len(train), len(test))"
   ],
   "outputs": [
    {
     "output_type": "stream",
     "name": "stdout",
     "text": [
      "220 94\n"
     ]
    }
   ],
   "metadata": {}
  },
  {
   "cell_type": "code",
   "execution_count": 89,
   "source": [
    "#converter em array\n",
    "def create_df(df, steps=1):\n",
    "    dataX, dataY = [], []\n",
    "    for i in range(len(df) - steps - 1):\n",
    "        a = df[i:(i + steps), 0]\n",
    "        dataX.append(a)\n",
    "        dataY.append(df[i + steps, 0])\n",
    "    return np.array(dataX), np.array(dataY)"
   ],
   "outputs": [],
   "metadata": {}
  },
  {
   "cell_type": "code",
   "execution_count": 90,
   "source": [
    "#gerar dados de treino e test\n",
    "steps = 15\n",
    "X_train, Y_train = create_df(train, steps)\n",
    "X_test, Y_test = create_df(test, steps)"
   ],
   "outputs": [],
   "metadata": {}
  },
  {
   "cell_type": "code",
   "execution_count": 91,
   "source": [
    "print(X_train.shape)\n",
    "print(Y_train.shape)\n",
    "print(X_test.shape)\n",
    "print(Y_test.shape)"
   ],
   "outputs": [
    {
     "output_type": "stream",
     "name": "stdout",
     "text": [
      "(204, 15)\n",
      "(204,)\n",
      "(78, 15)\n",
      "(78,)\n"
     ]
    }
   ],
   "metadata": {}
  },
  {
   "cell_type": "code",
   "execution_count": 92,
   "source": [
    "#gerando dados que o modelo espea\n",
    "X_train = X_train.reshape(X_train.shape[0], X_train.shape[1], 1)\n",
    "X_test = X_test.reshape(X_test.shape[0], X_test.shape[1], 1)"
   ],
   "outputs": [],
   "metadata": {}
  },
  {
   "cell_type": "code",
   "execution_count": 93,
   "source": [
    "#camade de rede neural\n",
    "model = Sequential()\n",
    "model.add(LSTM(35, return_sequences=True, input_shape=(steps, 1)))\n",
    "model.add(LSTM(35, return_sequences=True))\n",
    "model.add(LSTM(35))\n",
    "model.add(Dropout(0.2))\n",
    "model.add(Dense(1))"
   ],
   "outputs": [],
   "metadata": {}
  },
  {
   "cell_type": "code",
   "execution_count": 94,
   "source": [
    "model.compile(optimizer='adam', loss='mse')\n",
    "model.summary()"
   ],
   "outputs": [
    {
     "output_type": "stream",
     "name": "stdout",
     "text": [
      "Model: \"sequential_3\"\n",
      "_________________________________________________________________\n",
      "Layer (type)                 Output Shape              Param #   \n",
      "=================================================================\n",
      "lstm_9 (LSTM)                (None, 15, 35)            5180      \n",
      "_________________________________________________________________\n",
      "lstm_10 (LSTM)               (None, 15, 35)            9940      \n",
      "_________________________________________________________________\n",
      "lstm_11 (LSTM)               (None, 35)                9940      \n",
      "_________________________________________________________________\n",
      "dropout_3 (Dropout)          (None, 35)                0         \n",
      "_________________________________________________________________\n",
      "dense_3 (Dense)              (None, 1)                 36        \n",
      "=================================================================\n",
      "Total params: 25,096\n",
      "Trainable params: 25,096\n",
      "Non-trainable params: 0\n",
      "_________________________________________________________________\n"
     ]
    }
   ],
   "metadata": {}
  },
  {
   "cell_type": "code",
   "execution_count": 95,
   "source": [
    "#treinamento do modelo\n",
    "validation = model.fit(X_train, Y_train, validation_data=(X_test, Y_test), epochs=100, batch_size=15, verbose=2)"
   ],
   "outputs": [
    {
     "output_type": "stream",
     "name": "stdout",
     "text": [
      "Epoch 1/100\n",
      "14/14 - 8s - loss: 0.4951 - val_loss: 0.2808\n",
      "Epoch 2/100\n",
      "14/14 - 1s - loss: 0.1718 - val_loss: 0.1485\n",
      "Epoch 3/100\n",
      "14/14 - 1s - loss: 0.1290 - val_loss: 0.1552\n",
      "Epoch 4/100\n",
      "14/14 - 1s - loss: 0.1185 - val_loss: 0.1750\n",
      "Epoch 5/100\n",
      "14/14 - 1s - loss: 0.1140 - val_loss: 0.1471\n",
      "Epoch 6/100\n",
      "14/14 - 1s - loss: 0.1004 - val_loss: 0.1375\n",
      "Epoch 7/100\n",
      "14/14 - 1s - loss: 0.1070 - val_loss: 0.1511\n",
      "Epoch 8/100\n",
      "14/14 - 1s - loss: 0.1121 - val_loss: 0.1205\n",
      "Epoch 9/100\n",
      "14/14 - 1s - loss: 0.0940 - val_loss: 0.1094\n",
      "Epoch 10/100\n",
      "14/14 - 1s - loss: 0.0835 - val_loss: 0.1167\n",
      "Epoch 11/100\n",
      "14/14 - 1s - loss: 0.0787 - val_loss: 0.0841\n",
      "Epoch 12/100\n",
      "14/14 - 1s - loss: 0.0739 - val_loss: 0.0902\n",
      "Epoch 13/100\n",
      "14/14 - 1s - loss: 0.0612 - val_loss: 0.1193\n",
      "Epoch 14/100\n",
      "14/14 - 1s - loss: 0.0617 - val_loss: 0.0703\n",
      "Epoch 15/100\n",
      "14/14 - 1s - loss: 0.0607 - val_loss: 0.0759\n",
      "Epoch 16/100\n",
      "14/14 - 1s - loss: 0.0521 - val_loss: 0.0792\n",
      "Epoch 17/100\n",
      "14/14 - 1s - loss: 0.0533 - val_loss: 0.0669\n",
      "Epoch 18/100\n",
      "14/14 - 1s - loss: 0.0575 - val_loss: 0.0863\n",
      "Epoch 19/100\n",
      "14/14 - 1s - loss: 0.0505 - val_loss: 0.0784\n",
      "Epoch 20/100\n",
      "14/14 - 1s - loss: 0.0515 - val_loss: 0.0857\n",
      "Epoch 21/100\n",
      "14/14 - 1s - loss: 0.0545 - val_loss: 0.0671\n",
      "Epoch 22/100\n",
      "14/14 - 1s - loss: 0.0446 - val_loss: 0.0628\n",
      "Epoch 23/100\n",
      "14/14 - 1s - loss: 0.0539 - val_loss: 0.0860\n",
      "Epoch 24/100\n",
      "14/14 - 1s - loss: 0.0574 - val_loss: 0.0754\n",
      "Epoch 25/100\n",
      "14/14 - 1s - loss: 0.0514 - val_loss: 0.0641\n",
      "Epoch 26/100\n",
      "14/14 - 1s - loss: 0.0414 - val_loss: 0.0781\n",
      "Epoch 27/100\n",
      "14/14 - 1s - loss: 0.0509 - val_loss: 0.0595\n",
      "Epoch 28/100\n",
      "14/14 - 1s - loss: 0.0423 - val_loss: 0.0591\n",
      "Epoch 29/100\n",
      "14/14 - 1s - loss: 0.0398 - val_loss: 0.0710\n",
      "Epoch 30/100\n",
      "14/14 - 1s - loss: 0.0430 - val_loss: 0.0585\n",
      "Epoch 31/100\n",
      "14/14 - 1s - loss: 0.0442 - val_loss: 0.0597\n",
      "Epoch 32/100\n",
      "14/14 - 1s - loss: 0.0533 - val_loss: 0.0731\n",
      "Epoch 33/100\n",
      "14/14 - 1s - loss: 0.0549 - val_loss: 0.0578\n",
      "Epoch 34/100\n",
      "14/14 - 1s - loss: 0.0480 - val_loss: 0.0593\n",
      "Epoch 35/100\n",
      "14/14 - 1s - loss: 0.0446 - val_loss: 0.0575\n",
      "Epoch 36/100\n",
      "14/14 - 2s - loss: 0.0455 - val_loss: 0.0606\n",
      "Epoch 37/100\n",
      "14/14 - 1s - loss: 0.0366 - val_loss: 0.0575\n",
      "Epoch 38/100\n",
      "14/14 - 1s - loss: 0.0425 - val_loss: 0.0531\n",
      "Epoch 39/100\n",
      "14/14 - 1s - loss: 0.0371 - val_loss: 0.0558\n",
      "Epoch 40/100\n",
      "14/14 - 1s - loss: 0.0376 - val_loss: 0.0548\n",
      "Epoch 41/100\n",
      "14/14 - 1s - loss: 0.0389 - val_loss: 0.0525\n",
      "Epoch 42/100\n",
      "14/14 - 1s - loss: 0.0366 - val_loss: 0.0514\n",
      "Epoch 43/100\n",
      "14/14 - 1s - loss: 0.0397 - val_loss: 0.0530\n",
      "Epoch 44/100\n",
      "14/14 - 1s - loss: 0.0385 - val_loss: 0.0523\n",
      "Epoch 45/100\n",
      "14/14 - 1s - loss: 0.0372 - val_loss: 0.0541\n",
      "Epoch 46/100\n",
      "14/14 - 1s - loss: 0.0437 - val_loss: 0.0559\n",
      "Epoch 47/100\n",
      "14/14 - 1s - loss: 0.0406 - val_loss: 0.0525\n",
      "Epoch 48/100\n",
      "14/14 - 1s - loss: 0.0369 - val_loss: 0.0502\n",
      "Epoch 49/100\n",
      "14/14 - 1s - loss: 0.0395 - val_loss: 0.0517\n",
      "Epoch 50/100\n",
      "14/14 - 1s - loss: 0.0403 - val_loss: 0.0541\n",
      "Epoch 51/100\n",
      "14/14 - 1s - loss: 0.0392 - val_loss: 0.0494\n",
      "Epoch 52/100\n",
      "14/14 - 1s - loss: 0.0392 - val_loss: 0.0513\n",
      "Epoch 53/100\n",
      "14/14 - 1s - loss: 0.0355 - val_loss: 0.0506\n",
      "Epoch 54/100\n",
      "14/14 - 1s - loss: 0.0380 - val_loss: 0.0499\n",
      "Epoch 55/100\n",
      "14/14 - 1s - loss: 0.0371 - val_loss: 0.0536\n",
      "Epoch 56/100\n",
      "14/14 - 1s - loss: 0.0387 - val_loss: 0.0510\n",
      "Epoch 57/100\n",
      "14/14 - 1s - loss: 0.0353 - val_loss: 0.0504\n",
      "Epoch 58/100\n",
      "14/14 - 1s - loss: 0.0422 - val_loss: 0.0538\n",
      "Epoch 59/100\n",
      "14/14 - 1s - loss: 0.0355 - val_loss: 0.0516\n",
      "Epoch 60/100\n",
      "14/14 - 1s - loss: 0.0355 - val_loss: 0.0502\n",
      "Epoch 61/100\n",
      "14/14 - 1s - loss: 0.0385 - val_loss: 0.0511\n",
      "Epoch 62/100\n",
      "14/14 - 1s - loss: 0.0359 - val_loss: 0.0512\n",
      "Epoch 63/100\n",
      "14/14 - 1s - loss: 0.0357 - val_loss: 0.0479\n",
      "Epoch 64/100\n",
      "14/14 - 1s - loss: 0.0345 - val_loss: 0.0553\n",
      "Epoch 65/100\n",
      "14/14 - 1s - loss: 0.0365 - val_loss: 0.0490\n",
      "Epoch 66/100\n",
      "14/14 - 1s - loss: 0.0376 - val_loss: 0.0507\n",
      "Epoch 67/100\n",
      "14/14 - 1s - loss: 0.0467 - val_loss: 0.0490\n",
      "Epoch 68/100\n",
      "14/14 - 1s - loss: 0.0395 - val_loss: 0.0489\n",
      "Epoch 69/100\n",
      "14/14 - 1s - loss: 0.0423 - val_loss: 0.0470\n",
      "Epoch 70/100\n",
      "14/14 - 1s - loss: 0.0382 - val_loss: 0.0460\n",
      "Epoch 71/100\n",
      "14/14 - 1s - loss: 0.0365 - val_loss: 0.0465\n",
      "Epoch 72/100\n",
      "14/14 - 1s - loss: 0.0349 - val_loss: 0.0449\n",
      "Epoch 73/100\n",
      "14/14 - 1s - loss: 0.0372 - val_loss: 0.0466\n",
      "Epoch 74/100\n",
      "14/14 - 0s - loss: 0.0360 - val_loss: 0.0549\n",
      "Epoch 75/100\n",
      "14/14 - 0s - loss: 0.0369 - val_loss: 0.0486\n",
      "Epoch 76/100\n",
      "14/14 - 1s - loss: 0.0381 - val_loss: 0.0846\n",
      "Epoch 77/100\n",
      "14/14 - 1s - loss: 0.0416 - val_loss: 0.0512\n",
      "Epoch 78/100\n",
      "14/14 - 0s - loss: 0.0404 - val_loss: 0.0560\n",
      "Epoch 79/100\n",
      "14/14 - 0s - loss: 0.0441 - val_loss: 0.0462\n",
      "Epoch 80/100\n",
      "14/14 - 1s - loss: 0.0430 - val_loss: 0.0429\n",
      "Epoch 81/100\n",
      "14/14 - 1s - loss: 0.0359 - val_loss: 0.0491\n",
      "Epoch 82/100\n",
      "14/14 - 1s - loss: 0.0343 - val_loss: 0.0469\n",
      "Epoch 83/100\n",
      "14/14 - 1s - loss: 0.0299 - val_loss: 0.0438\n",
      "Epoch 84/100\n",
      "14/14 - 1s - loss: 0.0331 - val_loss: 0.0433\n",
      "Epoch 85/100\n",
      "14/14 - 1s - loss: 0.0310 - val_loss: 0.0426\n",
      "Epoch 86/100\n",
      "14/14 - 1s - loss: 0.0313 - val_loss: 0.0432\n",
      "Epoch 87/100\n",
      "14/14 - 1s - loss: 0.0343 - val_loss: 0.0428\n",
      "Epoch 88/100\n",
      "14/14 - 1s - loss: 0.0356 - val_loss: 0.0491\n",
      "Epoch 89/100\n",
      "14/14 - 0s - loss: 0.0359 - val_loss: 0.0418\n",
      "Epoch 90/100\n",
      "14/14 - 1s - loss: 0.0319 - val_loss: 0.0464\n",
      "Epoch 91/100\n",
      "14/14 - 1s - loss: 0.0367 - val_loss: 0.0422\n",
      "Epoch 92/100\n",
      "14/14 - 1s - loss: 0.0386 - val_loss: 0.0434\n",
      "Epoch 93/100\n",
      "14/14 - 1s - loss: 0.0351 - val_loss: 0.0405\n",
      "Epoch 94/100\n",
      "14/14 - 1s - loss: 0.0369 - val_loss: 0.0400\n",
      "Epoch 95/100\n",
      "14/14 - 1s - loss: 0.0345 - val_loss: 0.0413\n",
      "Epoch 96/100\n",
      "14/14 - 1s - loss: 0.0375 - val_loss: 0.0436\n",
      "Epoch 97/100\n",
      "14/14 - 1s - loss: 0.0340 - val_loss: 0.0471\n",
      "Epoch 98/100\n",
      "14/14 - 1s - loss: 0.0321 - val_loss: 0.0495\n",
      "Epoch 99/100\n",
      "14/14 - 1s - loss: 0.0315 - val_loss: 0.0400\n",
      "Epoch 100/100\n",
      "14/14 - 1s - loss: 0.0309 - val_loss: 0.0424\n"
     ]
    }
   ],
   "metadata": {}
  },
  {
   "cell_type": "code",
   "execution_count": 96,
   "source": [
    "plt.plot(validation.history['loss'], label='Training loss')\n",
    "plt.plot(validation.history['val_loss'], label='Validation loss')\n",
    "plt.legend()"
   ],
   "outputs": [
    {
     "output_type": "execute_result",
     "data": {
      "text/plain": [
       "<matplotlib.legend.Legend at 0x7fba5d5f97c0>"
      ]
     },
     "metadata": {},
     "execution_count": 96
    },
    {
     "output_type": "display_data",
     "data": {
      "image/png": "[encoded data removed]",
      "text/plain": [
       "<Figure size 432x288 with 1 Axes>"
      ]
     },
     "metadata": {
      "needs_background": "light"
     }
    }
   ],
   "metadata": {}
  },
  {
   "cell_type": "code",
   "execution_count": 97,
   "source": [
    "#fazendo a previsao \n",
    "prev = model.predict(X_test)\n",
    "prev = scaler.inverse_transform(prev)\n",
    "prev"
   ],
   "outputs": [
    {
     "output_type": "execute_result",
     "data": {
      "text/plain": [
       "array([[11563.462 ],\n",
       "       [11074.495 ],\n",
       "       [10667.415 ],\n",
       "       [10370.013 ],\n",
       "       [10112.69  ],\n",
       "       [ 9898.859 ],\n",
       "       [ 9801.376 ],\n",
       "       [ 9852.275 ],\n",
       "       [10046.837 ],\n",
       "       [10387.4795],\n",
       "       [10687.515 ],\n",
       "       [10901.194 ],\n",
       "       [11072.345 ],\n",
       "       [11265.502 ],\n",
       "       [11392.881 ],\n",
       "       [11575.948 ],\n",
       "       [11794.172 ],\n",
       "       [11863.777 ],\n",
       "       [11819.35  ],\n",
       "       [11711.005 ],\n",
       "       [11597.619 ],\n",
       "       [11419.978 ],\n",
       "       [11161.684 ],\n",
       "       [10900.247 ],\n",
       "       [10643.764 ],\n",
       "       [10419.736 ],\n",
       "       [10248.635 ],\n",
       "       [10129.7705],\n",
       "       [10033.449 ],\n",
       "       [ 9941.901 ],\n",
       "       [ 9961.817 ],\n",
       "       [10101.943 ],\n",
       "       [10364.813 ],\n",
       "       [10696.426 ],\n",
       "       [11016.287 ],\n",
       "       [11295.523 ],\n",
       "       [11558.342 ],\n",
       "       [11765.103 ],\n",
       "       [11940.049 ],\n",
       "       [12182.391 ],\n",
       "       [12509.421 ],\n",
       "       [12868.119 ],\n",
       "       [13234.192 ],\n",
       "       [13476.97  ],\n",
       "       [13759.944 ],\n",
       "       [14158.812 ],\n",
       "       [14661.343 ],\n",
       "       [15422.64  ],\n",
       "       [16131.175 ],\n",
       "       [16776.125 ],\n",
       "       [17212.209 ],\n",
       "       [17452.156 ],\n",
       "       [17396.383 ],\n",
       "       [17415.035 ],\n",
       "       [17455.197 ],\n",
       "       [17509.75  ],\n",
       "       [17385.701 ],\n",
       "       [17018.785 ],\n",
       "       [16617.166 ],\n",
       "       [16422.406 ],\n",
       "       [16508.91  ],\n",
       "       [16725.375 ],\n",
       "       [16945.416 ],\n",
       "       [17221.273 ],\n",
       "       [17250.53  ],\n",
       "       [17103.78  ],\n",
       "       [16777.338 ],\n",
       "       [16523.426 ],\n",
       "       [16347.059 ],\n",
       "       [16241.55  ],\n",
       "       [16205.257 ],\n",
       "       [16392.19  ],\n",
       "       [17061.783 ],\n",
       "       [17987.76  ],\n",
       "       [19053.438 ],\n",
       "       [19935.955 ],\n",
       "       [20467.363 ],\n",
       "       [20545.488 ]], dtype=float32)"
      ]
     },
     "metadata": {},
     "execution_count": 97
    }
   ],
   "metadata": {}
  },
  {
   "cell_type": "code",
   "execution_count": 98,
   "source": [
    "#previsao para od proximos dias\n",
    "lenght_test = len(test)\n",
    "lenght_test"
   ],
   "outputs": [
    {
     "output_type": "execute_result",
     "data": {
      "text/plain": [
       "94"
      ]
     },
     "metadata": {},
     "execution_count": 98
    }
   ],
   "metadata": {}
  },
  {
   "cell_type": "code",
   "execution_count": 99,
   "source": [
    "#pegando os ultimos dias do tamanho do meu step \n",
    "days_input_steps = lenght_test - steps\n",
    "days_input_steps"
   ],
   "outputs": [
    {
     "output_type": "execute_result",
     "data": {
      "text/plain": [
       "79"
      ]
     },
     "metadata": {},
     "execution_count": 99
    }
   ],
   "metadata": {}
  },
  {
   "cell_type": "code",
   "execution_count": 100,
   "source": [
    "#transforma em array\n",
    "input_steps = test[days_input_steps:]\n",
    "input_steps = np.array(input_steps).reshape(1, -1)\n",
    "input_steps"
   ],
   "outputs": [
    {
     "output_type": "execute_result",
     "data": {
      "text/plain": [
       "array([[1.33285038, 1.21997515, 1.35277246, 1.33483406, 1.30452743,\n",
       "        1.31898646, 1.51074859, 1.90596662, 1.87527119, 2.03093435,\n",
       "        1.98699192, 2.03722856, 2.02370583, 1.57064772, 1.68128338]])"
      ]
     },
     "metadata": {},
     "execution_count": 100
    }
   ],
   "metadata": {}
  },
  {
   "cell_type": "code",
   "execution_count": 101,
   "source": [
    "#tranformando em lista\n",
    "list_output_steps = list(input_steps)\n",
    "list_output_steps = list_output_steps[0].tolist()\n",
    "list_output_steps"
   ],
   "outputs": [
    {
     "output_type": "execute_result",
     "data": {
      "text/plain": [
       "[1.3328503831984755,\n",
       " 1.2199751529810554,\n",
       " 1.3527724586452707,\n",
       " 1.334834060928914,\n",
       " 1.3045274325632727,\n",
       " 1.31898645954044,\n",
       " 1.5107485857419438,\n",
       " 1.9059666183658872,\n",
       " 1.87527118916508,\n",
       " 2.030934348028061,\n",
       " 1.986991918943384,\n",
       " 2.037228557466743,\n",
       " 2.0237058263783427,\n",
       " 1.570647718490269,\n",
       " 1.6812833765500237]"
      ]
     },
     "metadata": {},
     "execution_count": 101
    }
   ],
   "metadata": {}
  },
  {
   "cell_type": "code",
   "execution_count": 102,
   "source": [
    "#loop para prever os proximos dias\n",
    "pred_output = []\n",
    "i = 0\n",
    "n_future = 10\n",
    "while (i < n_future):\n",
    "    if (len(list_output_steps) > steps):\n",
    "\n",
    "        input_steps = np.array(list_output_steps[1:])\n",
    "\n",
    "        print(\"{} dia, valores de entrada -> {}\".format(i, input_steps))\n",
    "        input_steps = input_steps.reshape(1, -1)\n",
    "        input_steps = input_steps.reshape((1, steps, 1))\n",
    "        # print(input_steps)\n",
    "        pred = model.predict(input_steps, verbose=0)\n",
    "        print(\"{} dia, valores de entrada -> {}\".format(i, pred))\n",
    "        list_output_steps.extend(pred[0].tolist())\n",
    "        list_output_steps = list_output_steps[1:]\n",
    "        # print(list_output_steps)\n",
    "        pred_output.extend(pred.tolist())\n",
    "        i = i + 1\n",
    "    else:\n",
    "        input_steps = input_steps.reshape((1, steps, 1))\n",
    "        pred = model.predict(input_steps, verbose=0)\n",
    "        print(pred[0])\n",
    "        list_output_steps.extend(pred[0].tolist())\n",
    "        print(len(list_output_steps))\n",
    "        pred_output.extend(pred.tolist())\n",
    "        i = i + 1\n",
    "print(pred_output)"
   ],
   "outputs": [
    {
     "output_type": "stream",
     "name": "stdout",
     "text": [
      "[1.617896]\n",
      "16\n",
      "1 dia, valores de entrada -> [1.21997515 1.35277246 1.33483406 1.30452743 1.31898646 1.51074859\n",
      " 1.90596662 1.87527119 2.03093435 1.98699192 2.03722856 2.02370583\n",
      " 1.57064772 1.68128338 1.61789596]\n",
      "1 dia, valores de entrada -> [[1.3762263]]\n",
      "2 dia, valores de entrada -> [1.35277246 1.33483406 1.30452743 1.31898646 1.51074859 1.90596662\n",
      " 1.87527119 2.03093435 1.98699192 2.03722856 2.02370583 1.57064772\n",
      " 1.68128338 1.61789596 1.37622631]\n",
      "2 dia, valores de entrada -> [[1.1611027]]\n",
      "3 dia, valores de entrada -> [1.33483406 1.30452743 1.31898646 1.51074859 1.90596662 1.87527119\n",
      " 2.03093435 1.98699192 2.03722856 2.02370583 1.57064772 1.68128338\n",
      " 1.61789596 1.37622631 1.16110265]\n",
      "3 dia, valores de entrada -> [[0.9810353]]\n",
      "4 dia, valores de entrada -> [1.30452743 1.31898646 1.51074859 1.90596662 1.87527119 2.03093435\n",
      " 1.98699192 2.03722856 2.02370583 1.57064772 1.68128338 1.61789596\n",
      " 1.37622631 1.16110265 0.98103529]\n",
      "4 dia, valores de entrada -> [[0.85152835]]\n",
      "5 dia, valores de entrada -> [1.31898646 1.51074859 1.90596662 1.87527119 2.03093435 1.98699192\n",
      " 2.03722856 2.02370583 1.57064772 1.68128338 1.61789596 1.37622631\n",
      " 1.16110265 0.98103529 0.85152835]\n",
      "5 dia, valores de entrada -> [[0.77202684]]\n",
      "6 dia, valores de entrada -> [1.51074859 1.90596662 1.87527119 2.03093435 1.98699192 2.03722856\n",
      " 2.02370583 1.57064772 1.68128338 1.61789596 1.37622631 1.16110265\n",
      " 0.98103529 0.85152835 0.77202684]\n",
      "6 dia, valores de entrada -> [[0.7307816]]\n",
      "7 dia, valores de entrada -> [1.90596662 1.87527119 2.03093435 1.98699192 2.03722856 2.02370583\n",
      " 1.57064772 1.68128338 1.61789596 1.37622631 1.16110265 0.98103529\n",
      " 0.85152835 0.77202684 0.73078161]\n",
      "7 dia, valores de entrada -> [[0.71187145]]\n",
      "8 dia, valores de entrada -> [1.87527119 2.03093435 1.98699192 2.03722856 2.02370583 1.57064772\n",
      " 1.68128338 1.61789596 1.37622631 1.16110265 0.98103529 0.85152835\n",
      " 0.77202684 0.73078161 0.71187145]\n",
      "8 dia, valores de entrada -> [[0.70261204]]\n",
      "9 dia, valores de entrada -> [2.03093435 1.98699192 2.03722856 2.02370583 1.57064772 1.68128338\n",
      " 1.61789596 1.37622631 1.16110265 0.98103529 0.85152835 0.77202684\n",
      " 0.73078161 0.71187145 0.70261204]\n",
      "9 dia, valores de entrada -> [[0.70398253]]\n",
      "[[1.6178959608078003], [1.3762263059616089], [1.1611026525497437], [0.9810352921485901], [0.8515283465385437], [0.7720268368721008], [0.730781614780426], [0.7118714451789856], [0.702612042427063], [0.7039825320243835]]\n"
     ]
    }
   ],
   "metadata": {}
  },
  {
   "cell_type": "code",
   "execution_count": 103,
   "source": [
    "#tranforma a saida\n",
    "prev = scaler.inverse_transform(pred_output)\n",
    "prev = np.array(prev).reshape(1, -1)\n",
    "list_output_prev = list(prev)\n",
    "list_output_prev = prev[0].tolist()\n",
    "list_output_prev"
   ],
   "outputs": [
    {
     "output_type": "execute_result",
     "data": {
      "text/plain": [
       "[18438.185072063512,\n",
       " 17219.894161509448,\n",
       " 16135.425398711495,\n",
       " 15227.680367156718,\n",
       " 14574.81753756086,\n",
       " 14174.039183060391,\n",
       " 13966.116184990768,\n",
       " 13870.787345475797,\n",
       " 13824.109386602533,\n",
       " 13831.018218497407]"
      ]
     },
     "metadata": {},
     "execution_count": 103
    }
   ],
   "metadata": {}
  },
  {
   "cell_type": "code",
   "execution_count": 104,
   "source": [
    "#pagar datas de previsao\n",
    "dates = pd.to_datetime(df_ori['date'])\n",
    "predict_dates = pd.date_range(list(dates)[-1] + pd.DateOffset(1), periods=10).tolist()  #freq='b'\n",
    "predict_dates\n"
   ],
   "outputs": [
    {
     "output_type": "execute_result",
     "data": {
      "text/plain": [
       "[Timestamp('1970-01-02 00:27:11.059200', freq='D'),\n",
       " Timestamp('1970-01-03 00:27:11.059200', freq='D'),\n",
       " Timestamp('1970-01-04 00:27:11.059200', freq='D'),\n",
       " Timestamp('1970-01-05 00:27:11.059200', freq='D'),\n",
       " Timestamp('1970-01-06 00:27:11.059200', freq='D'),\n",
       " Timestamp('1970-01-07 00:27:11.059200', freq='D'),\n",
       " Timestamp('1970-01-08 00:27:11.059200', freq='D'),\n",
       " Timestamp('1970-01-09 00:27:11.059200', freq='D'),\n",
       " Timestamp('1970-01-10 00:27:11.059200', freq='D'),\n",
       " Timestamp('1970-01-11 00:27:11.059200', freq='D')]"
      ]
     },
     "metadata": {},
     "execution_count": 104
    }
   ],
   "metadata": {}
  },
  {
   "cell_type": "code",
   "execution_count": 105,
   "source": [
    "#cria data frame de previsao \n",
    "forecast_dates = []\n",
    "for i in predict_dates:\n",
    "    forecast_dates.append(i.date())\n",
    "\n",
    "df_forecast = pd.DataFrame({'date': np.array(forecast_dates), 'close': list_output_prev})\n",
    "df_forecast['date'] = pd.to_datetime(df_forecast['date'])\n",
    "\n",
    "df_forecast = df_forecast.set_index(pd.DatetimeIndex(df_forecast['date'].values))\n",
    "df_forecast.drop('date', axis=1, inplace=True)\n",
    "df_forecast"
   ],
   "outputs": [
    {
     "output_type": "execute_result",
     "data": {
      "text/html": [
       "<div>\n",
       "<style scoped>\n",
       "    .dataframe tbody tr th:only-of-type {\n",
       "        vertical-align: middle;\n",
       "    }\n",
       "\n",
       "    .dataframe tbody tr th {\n",
       "        vertical-align: top;\n",
       "    }\n",
       "\n",
       "    .dataframe thead th {\n",
       "        text-align: right;\n",
       "    }\n",
       "</style>\n",
       "<table border=\"1\" class=\"dataframe\">\n",
       "  <thead>\n",
       "    <tr style=\"text-align: right;\">\n",
       "      <th></th>\n",
       "      <th>close</th>\n",
       "    </tr>\n",
       "  </thead>\n",
       "  <tbody>\n",
       "    <tr>\n",
       "      <th>1970-01-02</th>\n",
       "      <td>18438.185072</td>\n",
       "    </tr>\n",
       "    <tr>\n",
       "      <th>1970-01-03</th>\n",
       "      <td>17219.894162</td>\n",
       "    </tr>\n",
       "    <tr>\n",
       "      <th>1970-01-04</th>\n",
       "      <td>16135.425399</td>\n",
       "    </tr>\n",
       "    <tr>\n",
       "      <th>1970-01-05</th>\n",
       "      <td>15227.680367</td>\n",
       "    </tr>\n",
       "    <tr>\n",
       "      <th>1970-01-06</th>\n",
       "      <td>14574.817538</td>\n",
       "    </tr>\n",
       "    <tr>\n",
       "      <th>1970-01-07</th>\n",
       "      <td>14174.039183</td>\n",
       "    </tr>\n",
       "    <tr>\n",
       "      <th>1970-01-08</th>\n",
       "      <td>13966.116185</td>\n",
       "    </tr>\n",
       "    <tr>\n",
       "      <th>1970-01-09</th>\n",
       "      <td>13870.787345</td>\n",
       "    </tr>\n",
       "    <tr>\n",
       "      <th>1970-01-10</th>\n",
       "      <td>13824.109387</td>\n",
       "    </tr>\n",
       "    <tr>\n",
       "      <th>1970-01-11</th>\n",
       "      <td>13831.018218</td>\n",
       "    </tr>\n",
       "  </tbody>\n",
       "</table>\n",
       "</div>"
      ],
      "text/plain": [
       "                   close\n",
       "1970-01-02  18438.185072\n",
       "1970-01-03  17219.894162\n",
       "1970-01-04  16135.425399\n",
       "1970-01-05  15227.680367\n",
       "1970-01-06  14574.817538\n",
       "1970-01-07  14174.039183\n",
       "1970-01-08  13966.116185\n",
       "1970-01-09  13870.787345\n",
       "1970-01-10  13824.109387\n",
       "1970-01-11  13831.018218"
      ]
     },
     "metadata": {},
     "execution_count": 105
    }
   ],
   "metadata": {}
  },
  {
   "cell_type": "code",
   "execution_count": 106,
   "source": [
    "#plocar grafico\n",
    "plt.figure(figsize=(16, 8))\n",
    "plt.plot(df_ori['close'])\n",
    "plt.plot(df_forecast['close'])\n",
    "plt.legend(['close', 'date'])\n",
    "plt.show()"
   ],
   "outputs": [
    {
     "output_type": "display_data",
     "data": {
      "image/png": "[encoded data removed]",
      "text/plain": [
       "<Figure size 1152x576 with 1 Axes>"
      ]
     },
     "metadata": {
      "needs_background": "light"
     }
    }
   ],
   "metadata": {}
  }
 ],
 "metadata": {
  "interpreter": {
   "hash": "769bcb7f9dfac99001d3ef299a3dd9c86224cb368d1e821873befae0c6353734"
  },
  "kernelspec": {
   "name": "python3",
   "display_name": "Python 3.9.6 64-bit ('bot': conda)"
  },
  "language_info": {
   "codemirror_mode": {
    "name": "ipython",
    "version": 3
   },
   "file_extension": ".py",
   "mimetype": "text/x-python",
   "name": "python",
   "nbconvert_exporter": "python",
   "pygments_lexer": "ipython3",
   "version": "3.9.6"
  }
 },
 "nbformat": 4,
 "nbformat_minor": 2
}